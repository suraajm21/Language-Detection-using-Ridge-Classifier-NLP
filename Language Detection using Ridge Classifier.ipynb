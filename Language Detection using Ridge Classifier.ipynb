{
 "cells": [
  {
   "cell_type": "markdown",
   "id": "dfce5382",
   "metadata": {},
   "source": [
    "## Importing the libraries"
   ]
  },
  {
   "cell_type": "code",
   "execution_count": 1,
   "id": "3d07232a",
   "metadata": {},
   "outputs": [],
   "source": [
    "import pandas as pd\n",
    "import numpy as np"
   ]
  },
  {
   "cell_type": "markdown",
   "id": "8449e663",
   "metadata": {},
   "source": [
    "## Reading the dataset"
   ]
  },
  {
   "cell_type": "code",
   "execution_count": 2,
   "id": "dc0a4440",
   "metadata": {},
   "outputs": [
    {
     "data": {
      "text/html": [
       "<div>\n",
       "<style scoped>\n",
       "    .dataframe tbody tr th:only-of-type {\n",
       "        vertical-align: middle;\n",
       "    }\n",
       "\n",
       "    .dataframe tbody tr th {\n",
       "        vertical-align: top;\n",
       "    }\n",
       "\n",
       "    .dataframe thead th {\n",
       "        text-align: right;\n",
       "    }\n",
       "</style>\n",
       "<table border=\"1\" class=\"dataframe\">\n",
       "  <thead>\n",
       "    <tr style=\"text-align: right;\">\n",
       "      <th></th>\n",
       "      <th>Text</th>\n",
       "      <th>language</th>\n",
       "    </tr>\n",
       "  </thead>\n",
       "  <tbody>\n",
       "    <tr>\n",
       "      <th>0</th>\n",
       "      <td>klement gottwaldi surnukeha palsameeriti ning ...</td>\n",
       "      <td>Estonian</td>\n",
       "    </tr>\n",
       "    <tr>\n",
       "      <th>1</th>\n",
       "      <td>sebes joseph pereira thomas  på eng the jesuit...</td>\n",
       "      <td>Swedish</td>\n",
       "    </tr>\n",
       "    <tr>\n",
       "      <th>2</th>\n",
       "      <td>ถนนเจริญกรุง อักษรโรมัน thanon charoen krung เ...</td>\n",
       "      <td>Thai</td>\n",
       "    </tr>\n",
       "    <tr>\n",
       "      <th>3</th>\n",
       "      <td>விசாகப்பட்டினம் தமிழ்ச்சங்கத்தை இந்துப் பத்திர...</td>\n",
       "      <td>Tamil</td>\n",
       "    </tr>\n",
       "    <tr>\n",
       "      <th>4</th>\n",
       "      <td>de spons behoort tot het geslacht haliclona en...</td>\n",
       "      <td>Dutch</td>\n",
       "    </tr>\n",
       "    <tr>\n",
       "      <th>...</th>\n",
       "      <td>...</td>\n",
       "      <td>...</td>\n",
       "    </tr>\n",
       "    <tr>\n",
       "      <th>21995</th>\n",
       "      <td>hors du terrain les années  et  sont des année...</td>\n",
       "      <td>French</td>\n",
       "    </tr>\n",
       "    <tr>\n",
       "      <th>21996</th>\n",
       "      <td>ใน พศ  หลักจากที่เสด็จประพาสแหลมมลายู ชวา อินเ...</td>\n",
       "      <td>Thai</td>\n",
       "    </tr>\n",
       "    <tr>\n",
       "      <th>21997</th>\n",
       "      <td>con motivo de la celebración del septuagésimoq...</td>\n",
       "      <td>Spanish</td>\n",
       "    </tr>\n",
       "    <tr>\n",
       "      <th>21998</th>\n",
       "      <td>年月，當時還只有歲的她在美國出道，以mai-k名義推出首張英文《baby i like》，由...</td>\n",
       "      <td>Chinese</td>\n",
       "    </tr>\n",
       "    <tr>\n",
       "      <th>21999</th>\n",
       "      <td>aprilie sonda spațială messenger a nasa și-a ...</td>\n",
       "      <td>Romanian</td>\n",
       "    </tr>\n",
       "  </tbody>\n",
       "</table>\n",
       "<p>22000 rows × 2 columns</p>\n",
       "</div>"
      ],
      "text/plain": [
       "                                                    Text  language\n",
       "0      klement gottwaldi surnukeha palsameeriti ning ...  Estonian\n",
       "1      sebes joseph pereira thomas  på eng the jesuit...   Swedish\n",
       "2      ถนนเจริญกรุง อักษรโรมัน thanon charoen krung เ...      Thai\n",
       "3      விசாகப்பட்டினம் தமிழ்ச்சங்கத்தை இந்துப் பத்திர...     Tamil\n",
       "4      de spons behoort tot het geslacht haliclona en...     Dutch\n",
       "...                                                  ...       ...\n",
       "21995  hors du terrain les années  et  sont des année...    French\n",
       "21996  ใน พศ  หลักจากที่เสด็จประพาสแหลมมลายู ชวา อินเ...      Thai\n",
       "21997  con motivo de la celebración del septuagésimoq...   Spanish\n",
       "21998  年月，當時還只有歲的她在美國出道，以mai-k名義推出首張英文《baby i like》，由...   Chinese\n",
       "21999   aprilie sonda spațială messenger a nasa și-a ...  Romanian\n",
       "\n",
       "[22000 rows x 2 columns]"
      ]
     },
     "execution_count": 2,
     "metadata": {},
     "output_type": "execute_result"
    }
   ],
   "source": [
    "df = pd.read_csv(r'C:\\Users\\User\\Documents\\Projects\\NLP Projects\\Language Detection\\Language Detection Dataset.csv')\n",
    "df"
   ]
  },
  {
   "cell_type": "markdown",
   "id": "6f8aea0a",
   "metadata": {},
   "source": [
    "## Value Counts of Language Label  "
   ]
  },
  {
   "cell_type": "code",
   "execution_count": 3,
   "id": "f6af4cea",
   "metadata": {},
   "outputs": [
    {
     "data": {
      "text/plain": [
       "Estonian      1000\n",
       "Swedish       1000\n",
       "English       1000\n",
       "Russian       1000\n",
       "Romanian      1000\n",
       "Persian       1000\n",
       "Pushto        1000\n",
       "Spanish       1000\n",
       "Hindi         1000\n",
       "Korean        1000\n",
       "Chinese       1000\n",
       "French        1000\n",
       "Portugese     1000\n",
       "Indonesian    1000\n",
       "Urdu          1000\n",
       "Latin         1000\n",
       "Turkish       1000\n",
       "Japanese      1000\n",
       "Dutch         1000\n",
       "Tamil         1000\n",
       "Thai          1000\n",
       "Arabic        1000\n",
       "Name: language, dtype: int64"
      ]
     },
     "execution_count": 3,
     "metadata": {},
     "output_type": "execute_result"
    }
   ],
   "source": [
    "df[\"language\"].value_counts()"
   ]
  },
  {
   "cell_type": "markdown",
   "id": "2c68e962",
   "metadata": {},
   "source": [
    "## Value Counts of Text Feature "
   ]
  },
  {
   "cell_type": "code",
   "execution_count": 4,
   "id": "4be01da3",
   "metadata": {},
   "outputs": [
    {
     "data": {
      "text/plain": [
       "haec commentatio automatice praeparata res astronomicas colligit excerptas e pagina [] sitús small-body database quem elaboraverunt nasa et jpl apud institutum technologiae californiense                                                                                                                                                                                                                                                                                                                                                                                                                                                                                                                                                                                                                                                                                                                                                                                    48\n",
       "இக்கோயில் முதன்மைத் திருக்கோயில் என்ற வகைப்பாட்டில் இந்து அறநிலையத்துறையின் கட்டுப்பாட்டில் உள்ளது பரம்பரை அல்லாத அறங்காவலர் அமைப்பால் நிர்வகிக்கப்படுகிறது                                                                                                                                                                                                                                                                                                                                                                                                                                                                                                                                                                                                                                                                                                                                                                                                                   17\n",
       "bisby fa roskov yr orrell tm nicolson d paglinawan le bailly n kirk pm bourgoin t baillargeon g ouvrard d red  \"species   itis catalogue of life  annual checklist\" species  reading uk diakses pada  september                                                                                                                                                                                                                                                                                                                                                                                                                                                                                                                                                                                                                                                                                                                                                               12\n",
       "seperti asteroid pada umumnya asteroid ini terbentuk dari nebula matahari primordial sebagai pecahan planetisimal sesuatu di nebula matahari muda yang tidak cukup besar untuk berubah menjadi planet                                                                                                                                                                                                                                                                                                                                                                                                                                                                                                                                                                                                                                                                                                                                                                          7\n",
       "lévolution du nombre dhabitants est connue à travers les recensements de la population effectués dans la commune depuis  à partir de  les populations légales des communes sont publiées annuellement par linsee le recensement repose désormais sur une collecte dinformation annuelle concernant successivement tous les territoires communaux au cours dune période de cinq ans pour les communes de moins de   habitants une enquête de recensement portant sur toute la population est réalisée tous les cinq ans les populations légales des années intermédiaires étant quant à elles estimées par interpolation ou extrapolation pour la commune le premier recensement exhaustif entrant dans le cadre du nouveau dispositif a été réalisé en                                                                                                                                                                                                                         7\n",
       "                                                                                                                                                                                                                                                                                                                                                                                                                                                                                                                                                                                                                                                                                                                                                                                                                                                                                                                                                                              ..\n",
       "in  zette hij het project swiss piano op waarin pianowerk van hedendaagse zwitserse componisten uitgevoerd wordt het project resulteerde onder andere in een cd met nieuw aan wong opgedragen werk van daniel füter hans ulrich lehmann laurent mettraux isabel mundry jürg wyttenbach gérard zinsstag en alfred zimmerlin                                                                                                                                                                                                                                                                                                                                                                                                                                                                                                                                                                                                                                                     1\n",
       "nacido en duisburgo alemania caninenberg estudió en los primeros años  en la folkwang universität der künste de essen y tras graduarse actuó por vez primera en teatros de krefeld gießen y wuppertal tras servir durante la segunda guerra mundial hubo de cumplir cautiverio y en  retomó su carrera artística de vuelta en wuppertal colaboró en la reconstrucción teatral y en  fue a trabajar a la ópera estatal de stuttgart en  fue contratado por el prestigioso actor y director hans schweikart para actuar en el teatro de cámara de múnich pero pronto se trasladó a düsseldorf boleslaw barlog contó con él para actuar en el staatlichen berliner bühnen y en fráncfort del meno actuó junto a lola müthel con la que se casó en                                                                                                                                                                                                                                 1\n",
       "بچوں کی سائنس میں آسان مقالہ  انسانی دماغ* یہ مضمون عمومی طور پر دماغ کے بارے میں ہے۔ بالخصوص انسانی دماغ کے بارے میں دیکھیےدماغ انسانیدماغ دراصل مرکزی عصبی نظام کا ایک ایسا حصہ ہوتا ہے جسمیں عصبی نظام کے تمام اعلیٰ مراکز پائے جاتے ہیں۔ اکثر جانداروں میں دماغ سر میں موجود ایک ہڈی کے صندوق میں محفوظ ہوتا ہے جسے کاسہ سر یا کھوپڑی کہتے ہیں اور چار بنیادی حسیں بصارت سماعت ذائقہ اور سونگھنا اسکے بالکل قرب و جوار میں ملتی ہیں۔ فقاریہ جانداروں مثلا انسان کے عصبی نظام میں تو دماغ پایاجاتا ہے مگر غیرفقاریہ جانداروں میں عصبی نظام دراصل عصبی عقدوں یا یوں کہـ لیں کہ عصبی خلیات کی چھوٹی چھوٹی گرھوں پر مشتمل ہوتا ہے۔ دماغ ایک انتہائی پیچیدہ عضو ہے اس بات کا اندازا یوں لگایا جاسکتا ہے کہ ایک دماغ میں تقریباًً  ارب  ایک کھرب خلیات پائے جاتے ہیں یہاں یہ بات واضع رہے کہ یہ صرف ان خلیات کی تعداد ہے جنکو عصبون یا neuron کہا جاتا ہے۔ اور پھر ان  ارب خلیات میں سے بھی ہر ایک  عصبی تاروں یا ریشوں کے ذریعہ تقریباً  دیگر خلیات کے ساتھ رابطے بناتا ہے۔     1\n",
       "바그너의 행운은 년에 바이에른 왕국의 루트비히 세가 나이 세로 즉위하자 극적인 계기를 맞았다 젊은 왕은 어린 시절부터 바그너의 오페라의 열렬한 숭배자였기에 작곡가를 뮌헨으로 데려왔다 그는 바그너의 상당한 빚을 해결해 주었고 그의 새 오페라가 상연될 계획을 세웠다 리허설에서의 각고의 어려움 끝에 트리스탄과 이졸데는 뮌헨 왕립 극장에서 년 월 일에 큰 성공을 거두며 초연되었다                                                                                                                                                                                                                                                                                                                                                                                                                                                                                                                                                                                                                                                                                                                                                              1\n",
       " aprilie sonda spațială messenger a nasa și-a încheiat misiunea de studiu de  ani prăbușindu-se pe suprafața planetei mercur sonda a rămas fără combustibil fiind împinsă de gravitația solară din ce în ce mai aproape de mercur                                                                                                                                                                                                                                                                                                                                                                                                                                                                                                                                                                                                                                                                                                                                              1\n",
       "Name: Text, Length: 21859, dtype: int64"
      ]
     },
     "execution_count": 4,
     "metadata": {},
     "output_type": "execute_result"
    }
   ],
   "source": [
    "df[\"Text\"].value_counts()"
   ]
  },
  {
   "cell_type": "markdown",
   "id": "139f43cb",
   "metadata": {},
   "source": [
    "## Data Preprocessing  "
   ]
  },
  {
   "cell_type": "markdown",
   "id": "49454ab5",
   "metadata": {},
   "source": [
    "### Train Test Split "
   ]
  },
  {
   "cell_type": "code",
   "execution_count": 5,
   "id": "2d2a080e",
   "metadata": {},
   "outputs": [],
   "source": [
    "from sklearn.model_selection import train_test_split\n",
    "X_train, X_test, y_train, y_test = train_test_split(df.Text, \n",
    "                                                    df.language,\n",
    "                                                    test_size=0.325000000000000001,\n",
    "                                                    random_state=2551,\n",
    "                                                    shuffle=True)"
   ]
  },
  {
   "cell_type": "markdown",
   "id": "9b9b5f01",
   "metadata": {},
   "source": [
    "## Training the model using Ridge Classifier Technique "
   ]
  },
  {
   "cell_type": "code",
   "execution_count": 6,
   "id": "bd6799a7",
   "metadata": {},
   "outputs": [],
   "source": [
    "from sklearn.feature_extraction.text import CountVectorizer, TfidfTransformer\n",
    "from sklearn.linear_model import RidgeClassifier"
   ]
  },
  {
   "cell_type": "markdown",
   "id": "cec1bb7c",
   "metadata": {},
   "source": [
    "### NLP system entegration to Data    "
   ]
  },
  {
   "cell_type": "code",
   "execution_count": 7,
   "id": "41eeb470",
   "metadata": {},
   "outputs": [],
   "source": [
    "X_CountVectorizer = CountVectorizer(stop_words='english')\n",
    "\n",
    "X_train_counts = X_CountVectorizer.fit_transform(X_train)\n",
    "\n",
    "X_TfidfTransformer = TfidfTransformer()\n",
    "\n",
    "X_train_tfidf = X_TfidfTransformer.fit_transform(X_train_counts)"
   ]
  },
  {
   "cell_type": "markdown",
   "id": "b6121ae6",
   "metadata": {},
   "source": [
    "### Model Creating "
   ]
  },
  {
   "cell_type": "code",
   "execution_count": 8,
   "id": "abdadee4",
   "metadata": {},
   "outputs": [
    {
     "data": {
      "text/plain": [
       "RidgeClassifier()"
      ]
     },
     "execution_count": 8,
     "metadata": {},
     "output_type": "execute_result"
    }
   ],
   "source": [
    "model = RidgeClassifier()\n",
    "\n",
    "model.fit(X_train_tfidf, y_train)"
   ]
  },
  {
   "cell_type": "markdown",
   "id": "b8581d36",
   "metadata": {},
   "source": [
    "##  Model Accuracy Score"
   ]
  },
  {
   "cell_type": "code",
   "execution_count": 9,
   "id": "124ab23c",
   "metadata": {},
   "outputs": [
    {
     "data": {
      "text/plain": [
       "0.9651748251748252"
      ]
     },
     "execution_count": 9,
     "metadata": {},
     "output_type": "execute_result"
    }
   ],
   "source": [
    "model.score(X_CountVectorizer.transform(X_test),y_test)"
   ]
  },
  {
   "cell_type": "markdown",
   "id": "e2b11e3a",
   "metadata": {},
   "source": [
    "# Prediction"
   ]
  },
  {
   "cell_type": "markdown",
   "id": "0d44ca38",
   "metadata": {},
   "source": [
    "## 1.English"
   ]
  },
  {
   "cell_type": "markdown",
   "id": "19b68e54",
   "metadata": {},
   "source": [
    "### Data of Prediction "
   ]
  },
  {
   "cell_type": "code",
   "execution_count": 10,
   "id": "fb9ce9e6",
   "metadata": {},
   "outputs": [],
   "source": [
    "text = \"\"\"I quite like him. \n",
    "I'm so in love with him and my heart flutters when I see him.\"\"\"\n",
    "text = [text]\n",
    "text_counts = X_CountVectorizer.transform(text)"
   ]
  },
  {
   "cell_type": "markdown",
   "id": "5a5e28e8",
   "metadata": {},
   "source": [
    "### Prediction Processing "
   ]
  },
  {
   "cell_type": "code",
   "execution_count": 11,
   "id": "fd7e251a",
   "metadata": {},
   "outputs": [
    {
     "data": {
      "text/plain": [
       "'Prediction is English'"
      ]
     },
     "execution_count": 11,
     "metadata": {},
     "output_type": "execute_result"
    }
   ],
   "source": [
    "prediction = model.predict(text_counts)\n",
    "f\"Prediction is {prediction[0]}\""
   ]
  },
  {
   "cell_type": "markdown",
   "id": "efd4c820",
   "metadata": {},
   "source": [
    "# 2.Turkish"
   ]
  },
  {
   "cell_type": "markdown",
   "id": "0ef2a918",
   "metadata": {},
   "source": [
    "### Data of Prediction "
   ]
  },
  {
   "cell_type": "code",
   "execution_count": 12,
   "id": "c924f4fb",
   "metadata": {},
   "outputs": [],
   "source": [
    "text = \"\"\"Türkiye Cumhuriyeti güçlüdür ve \n",
    "ilelebet baki kalacaktır.\"\"\"\n",
    "text = [text]\n",
    "text_counts = X_CountVectorizer.transform(text)"
   ]
  },
  {
   "cell_type": "markdown",
   "id": "d6e16ad4",
   "metadata": {},
   "source": [
    "### Prediction Processing "
   ]
  },
  {
   "cell_type": "code",
   "execution_count": 13,
   "id": "39450bcb",
   "metadata": {},
   "outputs": [
    {
     "data": {
      "text/plain": [
       "'Prediction is Turkish'"
      ]
     },
     "execution_count": 13,
     "metadata": {},
     "output_type": "execute_result"
    }
   ],
   "source": [
    "prediction = model.predict(text_counts)\n",
    "\n",
    "f\"Prediction is {prediction[0]}\""
   ]
  }
 ],
 "metadata": {
  "kernelspec": {
   "display_name": "Python 3 (ipykernel)",
   "language": "python",
   "name": "python3"
  },
  "language_info": {
   "codemirror_mode": {
    "name": "ipython",
    "version": 3
   },
   "file_extension": ".py",
   "mimetype": "text/x-python",
   "name": "python",
   "nbconvert_exporter": "python",
   "pygments_lexer": "ipython3",
   "version": "3.9.12"
  }
 },
 "nbformat": 4,
 "nbformat_minor": 5
}
